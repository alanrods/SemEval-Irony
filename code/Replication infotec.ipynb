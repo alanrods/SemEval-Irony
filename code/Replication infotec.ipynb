{
 "cells": [
  {
   "cell_type": "code",
   "execution_count": 1,
   "metadata": {},
   "outputs": [],
   "source": [
    "import json\n",
    "import os.path\n",
    "import codecs\n",
    "import re"
   ]
  },
  {
   "cell_type": "code",
   "execution_count": 2,
   "metadata": {},
   "outputs": [
    {
     "name": "stdout",
     "output_type": "stream",
     "text": [
      "Opening files\n",
      "../SemEval2018-Task3/infotec_train_dev/SemEval2018-T3-taskA_train.json\n",
      "Size 2683\n",
      "../SemEval2018-Task3/infotec_train_dev/SemEval2018-T3-taskB_train.json\n",
      "Size 2683\n",
      "Opening files\n",
      "../SemEval2018-Task3/infotec_train_dev/SemEval2018-T3-taskA_test.json\n",
      "Size 1151\n",
      "../SemEval2018-Task3/infotec_train_dev/SemEval2018-T3-taskB_test.json\n",
      "Size 1151\n"
     ]
    }
   ],
   "source": [
    "def load_files(files):\n",
    "    json_files=[]\n",
    "    print(\"Opening files\")\n",
    "    for filename in files:\n",
    "        print(filename)\n",
    "        data=[]\n",
    "        for line in codecs.open(filename):\n",
    "            data.append(json.loads(line))\n",
    "        json_files.append(data)\n",
    "        print(\"Size\",len(json_files[-1]))\n",
    "    return json_files\n",
    "\n",
    "\n",
    "tasks=[\"taskA\",\"taskB\"]\n",
    "dirname=\"../SemEval2018-Task3/infotec_train_dev\"\n",
    "basename=\"SemEval2018-T3-{0}_{1}.json\"\n",
    "train_files=[os.path.join(dirname,basename.format(task,'train')) for task in tasks]\n",
    "test_files=[os.path.join(dirname,basename.format(task,'test')) for task in tasks]\n",
    "\n",
    "\n",
    "train_json=load_files(train_files)\n",
    "test_json=load_files(test_files)\n"
   ]
  },
  {
   "cell_type": "code",
   "execution_count": 3,
   "metadata": {},
   "outputs": [
    {
     "name": "stdout",
     "output_type": "stream",
     "text": [
      "Size: 2683\n",
      "Size: 1151\n",
      "Size: 2683\n",
      "Size: 1151\n"
     ]
    }
   ],
   "source": [
    "data_train=[]\n",
    "data_test=[]\n",
    "for i,t in enumerate(tasks):\n",
    "    text_train=[j['text'] for j in train_json[i]]\n",
    "    class_train=[j['klass'] for j in train_json[i]]\n",
    "    data_train.append(list(zip(text_train,class_train)))\n",
    "    text_test=[j['text'] for j in test_json[i]]\n",
    "    class_test=[j['klass'] for j in test_json[i]]\n",
    "    data_test.append(list(zip(text_test,class_test)))\n",
    "\n",
    "\n",
    "for i,t in enumerate(data_train):\n",
    "    print(\"Size:\",len(data_train[i]))\n",
    "    print(\"Size:\",len(data_test[i]))"
   ]
  },
  {
   "cell_type": "code",
   "execution_count": 4,
   "metadata": {},
   "outputs": [
    {
     "name": "stderr",
     "output_type": "stream",
     "text": [
      "Using Theano backend.\n"
     ]
    }
   ],
   "source": [
    "from keras.preprocessing.text import Tokenizer\n",
    "\n",
    "def normalizeText(tweet):\n",
    "    tweet = re.sub(r'#(S|s)arcasm|#(I|i)rony','',tweet)\n",
    "    tweet = re.sub(r'#SARCASM|#IRONY','',tweet)\n",
    "    tweet = re.sub(r'https?://t\\.co/.(\\w|\\d)+','http://link', tweet) #tweet link\n",
    "    tweet = re.sub(r'@.\\w*','@',tweet)\n",
    "    tweet = re.sub(r'#','',tweet)\n",
    "    return tweet\n",
    "\n",
    "def buildTokenizer(tweets):\n",
    "    tokenizer = Tokenizer(num_words=20000,lower=False, filters='!\"$%&()*+,-.;<=>?[\\\\]^_`{|}~\\t\\n')\n",
    "    tokenizer.fit_on_texts(tweets)\n",
    "    return tokenizer\n",
    "\n",
    "def text2seq(tok,tweet):\n",
    "    return tok.texts_to_sequences([tweet])[0]"
   ]
  },
  {
   "cell_type": "code",
   "execution_count": 5,
   "metadata": {
    "collapsed": true
   },
   "outputs": [],
   "source": [
    "toks=[]\n",
    "for i,t in enumerate(tasks):\n",
    "    tweets=[t for t,c in data_train[i]]\n",
    "    toks.append(buildTokenizer(tweets))"
   ]
  },
  {
   "cell_type": "code",
   "execution_count": 6,
   "metadata": {},
   "outputs": [
    {
     "name": "stdout",
     "output_type": "stream",
     "text": [
      "Example train\n",
      "[35, 3054, 173, 3055, 959, 29, 26, 1, 3056, 3057]\n"
     ]
    }
   ],
   "source": [
    "X_train=[]\n",
    "y_train=[]\n",
    "X_test=[]\n",
    "y_test=[]\n",
    "for i,t in enumerate(tasks):\n",
    "    X_train.append([text2seq(toks[i],t) for t,c in data_train[i]])\n",
    "    y_train.append([c for t,c in data_train[i]])\n",
    "    X_test.append([text2seq(toks[i],t) for t,c in data_test[i]])\n",
    "    y_test.append([c for t,c in data_test[i]])\n",
    "\n",
    "print(\"Example train\")\n",
    "print(X_train[0][0])"
   ]
  },
  {
   "cell_type": "code",
   "execution_count": 7,
   "metadata": {
    "collapsed": true
   },
   "outputs": [],
   "source": [
    "from keras.preprocessing import sequence\n",
    "from keras.models import Sequential\n",
    "from keras.layers import Dense, Embedding, Bidirectional\n",
    "from keras.layers import LSTM"
   ]
  },
  {
   "cell_type": "code",
   "execution_count": 8,
   "metadata": {
    "collapsed": true
   },
   "outputs": [],
   "source": [
    "max_features = 20000\n",
    "maxlen = 20\n",
    "embedding_size = 128\n",
    "lstm_output_size = 128\n",
    "batch_size = 32\n",
    "epochs = 20"
   ]
  },
  {
   "cell_type": "code",
   "execution_count": 9,
   "metadata": {
    "collapsed": true
   },
   "outputs": [],
   "source": [
    "def build_model():\n",
    "    model = Sequential()\n",
    "    model.add(Embedding(max_features, embedding_size))\n",
    "    model.add(Bidirectional(\n",
    "                LSTM(lstm_output_size,\n",
    "                   activation='tanh', \n",
    "                   recurrent_activation='hard_sigmoid', \n",
    "                   dropout=0.2, \n",
    "                   recurrent_dropout=0.2\n",
    "                    )\n",
    "                )\n",
    "             )\n",
    "    model.add(Dense(1, activation='sigmoid'))\n",
    "    return model"
   ]
  },
  {
   "cell_type": "code",
   "execution_count": 11,
   "metadata": {},
   "outputs": [
    {
     "name": "stdout",
     "output_type": "stream",
     "text": [
      "Evaluating task taskA\n",
      "_________________________________________________________________\n",
      "Layer (type)                 Output Shape              Param #   \n",
      "=================================================================\n",
      "embedding_2 (Embedding)      (None, None, 128)         2560000   \n",
      "_________________________________________________________________\n",
      "bidirectional_2 (Bidirection (None, 256)               263168    \n",
      "_________________________________________________________________\n",
      "dense_2 (Dense)              (None, 1)                 257       \n",
      "=================================================================\n",
      "Total params: 2,823,425\n",
      "Trainable params: 2,823,425\n",
      "Non-trainable params: 0\n",
      "_________________________________________________________________\n",
      "Train on 2414 samples, validate on 269 samples\n",
      "Epoch 1/20\n",
      "2414/2414 [==============================] - 49s 20ms/step - loss: 0.6821 - acc: 0.5559 - val_loss: 0.6590 - val_acc: 0.6357\n",
      "Epoch 2/20\n",
      "2414/2414 [==============================] - 10063s 4s/step - loss: 0.4151 - acc: 0.8186 - val_loss: 0.9385 - val_acc: 0.6022\n",
      "Epoch 3/20\n",
      "2414/2414 [==============================] - 26284s 11s/step - loss: 0.1076 - acc: 0.9606 - val_loss: 1.2760 - val_acc: 0.6022\n",
      "Epoch 4/20\n",
      "2414/2414 [==============================] - 39s 16ms/step - loss: 0.0335 - acc: 0.9909 - val_loss: 1.4909 - val_acc: 0.6283\n",
      "Epoch 5/20\n",
      "2414/2414 [==============================] - 46s 19ms/step - loss: 0.0065 - acc: 0.9988 - val_loss: 1.5861 - val_acc: 0.5911\n",
      "Epoch 6/20\n",
      "2414/2414 [==============================] - 39s 16ms/step - loss: 0.0041 - acc: 0.9996 - val_loss: 1.7036 - val_acc: 0.5874\n",
      "Epoch 7/20\n",
      "2414/2414 [==============================] - 38s 16ms/step - loss: 7.9617e-04 - acc: 1.0000 - val_loss: 2.1236 - val_acc: 0.6208\n",
      "Epoch 8/20\n",
      "2414/2414 [==============================] - 38s 16ms/step - loss: 1.9669e-04 - acc: 1.0000 - val_loss: 2.2213 - val_acc: 0.6097\n",
      "Epoch 9/20\n",
      "2414/2414 [==============================] - 39s 16ms/step - loss: 1.4584e-04 - acc: 1.0000 - val_loss: 2.3088 - val_acc: 0.6134\n",
      "Epoch 10/20\n",
      "2414/2414 [==============================] - 40s 17ms/step - loss: 1.1039e-04 - acc: 1.0000 - val_loss: 2.3851 - val_acc: 0.6097\n",
      "Epoch 11/20\n",
      "2414/2414 [==============================] - 40s 17ms/step - loss: 8.7001e-05 - acc: 1.0000 - val_loss: 2.4348 - val_acc: 0.6059\n",
      "Epoch 12/20\n",
      "2414/2414 [==============================] - 38s 16ms/step - loss: 7.2414e-05 - acc: 1.0000 - val_loss: 2.4861 - val_acc: 0.6022\n",
      "Epoch 13/20\n",
      "2414/2414 [==============================] - 39s 16ms/step - loss: 6.1134e-05 - acc: 1.0000 - val_loss: 2.5202 - val_acc: 0.6022\n",
      "Epoch 14/20\n",
      "2414/2414 [==============================] - 39s 16ms/step - loss: 6.0674e-05 - acc: 1.0000 - val_loss: 2.4961 - val_acc: 0.5985\n",
      "Epoch 15/20\n",
      "2414/2414 [==============================] - 39s 16ms/step - loss: 5.1371e-05 - acc: 1.0000 - val_loss: 2.5427 - val_acc: 0.5985\n",
      "Epoch 16/20\n",
      "2414/2414 [==============================] - 39s 16ms/step - loss: 4.3762e-05 - acc: 1.0000 - val_loss: 2.5988 - val_acc: 0.5985\n",
      "Epoch 17/20\n",
      "2414/2414 [==============================] - 39s 16ms/step - loss: 4.0469e-05 - acc: 1.0000 - val_loss: 2.6606 - val_acc: 0.5985\n",
      "Epoch 18/20\n",
      "2414/2414 [==============================] - 40s 17ms/step - loss: 3.2001e-05 - acc: 1.0000 - val_loss: 2.6827 - val_acc: 0.5948\n",
      "Epoch 19/20\n",
      "2414/2414 [==============================] - 38s 16ms/step - loss: 3.0613e-05 - acc: 1.0000 - val_loss: 2.7138 - val_acc: 0.5948\n",
      "Epoch 20/20\n",
      "2414/2414 [==============================] - 39s 16ms/step - loss: 2.4268e-05 - acc: 1.0000 - val_loss: 2.7446 - val_acc: 0.5985\n",
      "1151/1151 [==============================] - 6s 6ms/step\n"
     ]
    },
    {
     "ename": "NameError",
     "evalue": "name 'scores' is not defined",
     "output_type": "error",
     "traceback": [
      "\u001b[0;31m----------------------------------------------------------------------\u001b[0m",
      "\u001b[0;31mNameError\u001b[0m                            Traceback (most recent call last)",
      "\u001b[0;32m<ipython-input-11-4b830047936d>\u001b[0m in \u001b[0;36m<module>\u001b[0;34m()\u001b[0m\n\u001b[1;32m     14\u001b[0m                   validation_split=0.1)\n\u001b[1;32m     15\u001b[0m     \u001b[0mscore\u001b[0m\u001b[0;34m,\u001b[0m \u001b[0macc\u001b[0m \u001b[0;34m=\u001b[0m \u001b[0mmodel\u001b[0m\u001b[0;34m.\u001b[0m\u001b[0mevaluate\u001b[0m\u001b[0;34m(\u001b[0m\u001b[0mX_test_\u001b[0m\u001b[0;34m,\u001b[0m\u001b[0my_test\u001b[0m\u001b[0;34m[\u001b[0m\u001b[0mi\u001b[0m\u001b[0;34m]\u001b[0m\u001b[0;34m,\u001b[0m\u001b[0mbatch_size\u001b[0m\u001b[0;34m=\u001b[0m\u001b[0mbatch_size\u001b[0m\u001b[0;34m)\u001b[0m\u001b[0;34m\u001b[0m\u001b[0m\n\u001b[0;32m---> 16\u001b[0;31m     \u001b[0mscores\u001b[0m\u001b[0;34m.\u001b[0m\u001b[0mappend\u001b[0m\u001b[0;34m(\u001b[0m\u001b[0macc\u001b[0m \u001b[0;34m*\u001b[0m \u001b[0;36m100\u001b[0m\u001b[0;34m)\u001b[0m\u001b[0;34m\u001b[0m\u001b[0m\n\u001b[0m",
      "\u001b[0;31mNameError\u001b[0m: name 'scores' is not defined"
     ]
    }
   ],
   "source": [
    "scores=[]\n",
    "for i,t in enumerate(tasks):\n",
    "    print(\"Evaluating task\",t)\n",
    "    model = build_model()\n",
    "    model.summary()\n",
    "    model.compile(loss='binary_crossentropy', optimizer='adam', metrics=['accuracy'])\n",
    "    \n",
    "    X_train_=sequence.pad_sequences(X_train[i], maxlen=maxlen)\n",
    "    X_test_=sequence.pad_sequences(X_test[i], maxlen=maxlen)\n",
    "    \n",
    "    \n",
    "    model.fit(X_train_,y_train[i],\n",
    "                  batch_size=batch_size,\n",
    "                  epochs=epochs,\n",
    "                  validation_split=0.1)\n",
    "    score, acc = model.evaluate(X_test_,y_test[i],batch_size=batch_size)\n",
    "    scores.append(acc * 100)"
   ]
  },
  {
   "cell_type": "code",
   "execution_count": null,
   "metadata": {
    "collapsed": true
   },
   "outputs": [],
   "source": []
  },
  {
   "cell_type": "code",
   "execution_count": null,
   "metadata": {
    "collapsed": true
   },
   "outputs": [],
   "source": []
  }
 ],
 "metadata": {
  "kernelspec": {
   "display_name": "Python 3",
   "language": "python",
   "name": "python3"
  },
  "language_info": {
   "codemirror_mode": {
    "name": "ipython",
    "version": 3
   },
   "file_extension": ".py",
   "mimetype": "text/x-python",
   "name": "python",
   "nbconvert_exporter": "python",
   "pygments_lexer": "ipython3",
   "version": "3.5.2"
  }
 },
 "nbformat": 4,
 "nbformat_minor": 2
}
