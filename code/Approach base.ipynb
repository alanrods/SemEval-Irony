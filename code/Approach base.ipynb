{
 "cells": [
  {
   "cell_type": "code",
   "execution_count": 33,
   "metadata": {},
   "outputs": [],
   "source": [
    "import json\n",
    "import os.path\n",
    "import codecs\n",
    "import re\n",
    "\n",
    "from keras.preprocessing import sequence, text\n",
    "from keras.models import Sequential, Model\n",
    "from keras.layers import Dense, Embedding, Bidirectional, Input\n",
    "from keras.layers import LSTM\n",
    "\n",
    "max_features = 100000\n",
    "maxlen = 20\n",
    "embedding_size = 256\n",
    "lstm_output_size = 256\n",
    "batch_size = 32\n",
    "epochs_polarity = 5\n",
    "epochs_irony= 10"
   ]
  },
  {
   "cell_type": "markdown",
   "metadata": {},
   "source": [
    "# Datos ironía\n",
    "\n",
    "Se cargan los datos de ironía, por cada tarea:\n",
    "\n",
    "* taskA: Clasificador binario\n",
    "* taskB: Clasificador multi-clase (4?)"
   ]
  },
  {
   "cell_type": "code",
   "execution_count": 34,
   "metadata": {},
   "outputs": [
    {
     "name": "stdout",
     "output_type": "stream",
     "text": [
      "Opening files\n",
      "../SemEval2018-Task3/infotec_train_dev/SemEval2018-T3-taskA_train.json\n",
      "Size 2683\n",
      "../SemEval2018-Task3/infotec_train_dev/SemEval2018-T3-taskB_train.json\n",
      "Size 2683\n",
      "Opening files\n",
      "../SemEval2018-Task3/infotec_train_dev/SemEval2018-T3-taskA_test.json\n",
      "Size 1151\n",
      "../SemEval2018-Task3/infotec_train_dev/SemEval2018-T3-taskB_test.json\n",
      "Size 1151\n"
     ]
    }
   ],
   "source": [
    "def load_files(files):\n",
    "    json_files=[]\n",
    "    print(\"Opening files\")\n",
    "    for filename in files:\n",
    "        print(filename)\n",
    "        data=[]\n",
    "        for line in codecs.open(filename):\n",
    "            data.append(json.loads(line))\n",
    "        json_files.append(data)\n",
    "        print(\"Size\",len(json_files[-1]))\n",
    "    return json_files\n",
    "\n",
    "\n",
    "tasks=[\"taskA\",\"taskB\"]\n",
    "dirname=\"../SemEval2018-Task3/infotec_train_dev\"\n",
    "basename=\"SemEval2018-T3-{0}_{1}.json\"\n",
    "train_files=[os.path.join(dirname,basename.format(task,'train')) for task in tasks]\n",
    "test_files=[os.path.join(dirname,basename.format(task,'test')) for task in tasks]\n",
    "\n",
    "train_json=load_files(train_files)\n",
    "test_json=load_files(test_files)"
   ]
  },
  {
   "cell_type": "markdown",
   "metadata": {},
   "source": [
    "## Datos de polaridad\n",
    "\n",
    "Cargando datos de polaridad, una sola tarea"
   ]
  },
  {
   "cell_type": "code",
   "execution_count": 35,
   "metadata": {},
   "outputs": [
    {
     "name": "stdout",
     "output_type": "stream",
     "text": [
      "Opening files\n",
      "../extras/En.json\n",
      "Size 45748\n"
     ]
    }
   ],
   "source": [
    "train_polarity_json=load_files([\"../extras/En.json\"])[0]"
   ]
  },
  {
   "cell_type": "code",
   "execution_count": 36,
   "metadata": {},
   "outputs": [
    {
     "name": "stdout",
     "output_type": "stream",
     "text": [
      "Size: 2683\n",
      "Size: 1151\n",
      "Size: 2683\n",
      "Size: 1151\n",
      "Size: 45748\n"
     ]
    }
   ],
   "source": [
    "# Configurando datos de ironía\n",
    "\n",
    "data_train=[]\n",
    "data_test=[]\n",
    "for i,t in enumerate(tasks):\n",
    "    text_train=[j['text'] for j in train_json[i]]\n",
    "    class_train=[j['klass'] for j in train_json[i]]\n",
    "    data_train.append(list(zip(text_train,class_train)))\n",
    "    text_test=[j['text'] for j in test_json[i]]\n",
    "    class_test=[j['klass'] for j in test_json[i]]\n",
    "    data_test.append(list(zip(text_test,class_test)))\n",
    "\n",
    "\n",
    "for i,t in enumerate(data_train):\n",
    "    print(\"Size:\",len(data_train[i]))\n",
    "    print(\"Size:\",len(data_test[i]))\n",
    "    \n",
    "# Configurando datos de polaridad\n",
    "\n",
    "def pol2class(k):\n",
    "    onehot=[[1,0,0],[0,1,0],[0,0,1]]\n",
    "    return onehot[['neutral','positive','negative'].index(k)]\n",
    "\n",
    "text_polarity_train=[j['text'] for j in train_polarity_json]\n",
    "class_polarity_train=[pol2class(j['klass']) for j in train_polarity_json]\n",
    "data_polarity_train=list(zip(text_polarity_train,class_polarity_train))\n",
    "\n",
    "print(\"Size:\",len(data_polarity_train))\n"
   ]
  },
  {
   "cell_type": "code",
   "execution_count": 37,
   "metadata": {
    "collapsed": true
   },
   "outputs": [],
   "source": [
    "from keras.preprocessing.text import Tokenizer\n",
    "\n",
    "def normalizeText(tweet):\n",
    "    #tweet = re.sub(r'#(S|s)arcasm|#(I|i)rony','',tweet)\n",
    "    #tweet = re.sub(r'#SARCASM|#IRONY','',tweet)\n",
    "    #tweet = re.sub(r'https?://t\\.co/.(\\w|\\d)+','http://link', tweet) #tweet link\n",
    "    #tweet = re.sub(r'@.\\w*','@',tweet)\n",
    "    #tweet = re.sub(r'#','',tweet)\n",
    "    return tweet\n",
    "\n",
    "def buildTokenizer(tweets):\n",
    "    tokenizer = Tokenizer(num_words=max_features,lower=False, filters='')#!\"$%&()*+,-.;<=>?[\\\\]^_`{|}~\\t\\n')\n",
    "    tokenizer.fit_on_texts(tweets)\n",
    "    return tokenizer\n",
    "\n",
    "def text2seq(tok,tweet):\n",
    "    return tok.texts_to_sequences([tweet])[0]"
   ]
  },
  {
   "cell_type": "code",
   "execution_count": 38,
   "metadata": {},
   "outputs": [
    {
     "name": "stdout",
     "output_type": "stream",
     "text": [
      "word_counts 132975\n",
      "word_docs 132975\n",
      "word_index 132975\n",
      "word_counts 132998\n",
      "word_docs 132998\n",
      "word_index 132998\n"
     ]
    }
   ],
   "source": [
    "toks=[]\n",
    "for i,t in enumerate(tasks):\n",
    "    tweets=[t for t,c in data_train[i]]\n",
    "    tweets_=[t for t,c in data_polarity_train]\n",
    "    toks.append(buildTokenizer([normalizeText(t) for t in tweets+tweets_]))\n",
    "    print(\"word_counts\",len(toks[-1].word_counts))\n",
    "    print(\"word_docs\",len(toks[-1].word_docs))\n",
    "    print(\"word_index\",len(toks[-1].word_index))"
   ]
  },
  {
   "cell_type": "code",
   "execution_count": 39,
   "metadata": {},
   "outputs": [
    {
     "name": "stdout",
     "output_type": "stream",
     "text": [
      "Example train\n",
      "[26, 36656, 103, 22880, 3893, 21, 24, 1, 36657, 36658]\n",
      "0\n"
     ]
    }
   ],
   "source": [
    "X_train=[]\n",
    "y_train=[]\n",
    "X_test=[]\n",
    "y_test=[]\n",
    "for i,t in enumerate(tasks):\n",
    "    X_train.append([text2seq(toks[i],t) for t,c in data_train[i]])\n",
    "    y_train.append([int(c) for t,c in data_train[i]])\n",
    "    X_test.append([text2seq(toks[i],t) for t,c in data_test[i]])\n",
    "    y_test.append([int(c) for t,c in data_test[i]])\n",
    "\n",
    "print(\"Example train\")\n",
    "print(X_train[0][0])\n",
    "print(y_train[0][0])"
   ]
  },
  {
   "cell_type": "code",
   "execution_count": 40,
   "metadata": {},
   "outputs": [
    {
     "name": "stdout",
     "output_type": "stream",
     "text": [
      "Example train\n",
      "[629, 5663, 12266, 2935, 214, 303, 10, 17991, 27, 1220, 3184, 502, 629, 124, 76, 17, 105, 1712, 41, 1993, 43486]\n",
      "[1, 0, 0]\n"
     ]
    }
   ],
   "source": [
    "X_polarity_train=[]\n",
    "y_polarity_train=[]\n",
    "for i,t in enumerate(tasks):\n",
    "    X_polarity_train.append([text2seq(toks[i],t) for t,c in data_polarity_train])\n",
    "    y_polarity_train.append([c for t,c in data_polarity_train])\n",
    "    \n",
    "print(\"Example train\")\n",
    "print(X_polarity_train[0][0])\n",
    "print(y_polarity_train[0][0])"
   ]
  },
  {
   "cell_type": "code",
   "execution_count": 41,
   "metadata": {
    "collapsed": true
   },
   "outputs": [],
   "source": [
    "def build_model(task):\n",
    "    \n",
    "    inputs = Input(shape=(maxlen,))\n",
    "    embeedings = Embedding(max_features, embedding_size)(inputs)\n",
    "    bidirectional = Bidirectional(\n",
    "                        LSTM(lstm_output_size,\n",
    "                        #activation='tanh', \n",
    "                        #recurrent_activation='hard_sigmoid', \n",
    "                        dropout=0.2, \n",
    "                        recurrent_dropout=0.2\n",
    "                        )\n",
    "                    )(embeedings)\n",
    "    if task==\"taskA\":\n",
    "        irony=Dense(1, activation='sigmoid')(bidirectional)\n",
    "    if task==\"taskB\":\n",
    "        irony=Dense(1, activation='sigmoid')(bidirectional)\n",
    "    \n",
    "    polarity=Dense(3, activation='sigmoid')(bidirectional)\n",
    "    model_irony = Model(inputs=inputs, outputs=irony)\n",
    "    model_polarity = Model(inputs=inputs, outputs=polarity)\n",
    "    return model_polarity, model_irony"
   ]
  },
  {
   "cell_type": "code",
   "execution_count": 42,
   "metadata": {},
   "outputs": [
    {
     "name": "stdout",
     "output_type": "stream",
     "text": [
      "Evaluating task taskA\n",
      "_________________________________________________________________\n",
      "Layer (type)                 Output Shape              Param #   \n",
      "=================================================================\n",
      "input_5 (InputLayer)         (None, 20)                0         \n",
      "_________________________________________________________________\n",
      "embedding_5 (Embedding)      (None, 20, 256)           25600000  \n",
      "_________________________________________________________________\n",
      "bidirectional_5 (Bidirection (None, 512)               1050624   \n",
      "_________________________________________________________________\n",
      "dense_10 (Dense)             (None, 3)                 1539      \n",
      "=================================================================\n",
      "Total params: 26,652,163\n",
      "Trainable params: 26,652,163\n",
      "Non-trainable params: 0\n",
      "_________________________________________________________________\n",
      "_________________________________________________________________\n",
      "Layer (type)                 Output Shape              Param #   \n",
      "=================================================================\n",
      "input_5 (InputLayer)         (None, 20)                0         \n",
      "_________________________________________________________________\n",
      "embedding_5 (Embedding)      (None, 20, 256)           25600000  \n",
      "_________________________________________________________________\n",
      "bidirectional_5 (Bidirection (None, 512)               1050624   \n",
      "_________________________________________________________________\n",
      "dense_9 (Dense)              (None, 1)                 513       \n",
      "=================================================================\n",
      "Total params: 26,651,137\n",
      "Trainable params: 26,651,137\n",
      "Non-trainable params: 0\n",
      "_________________________________________________________________\n",
      "Train on 41173 samples, validate on 4575 samples\n",
      "Epoch 1/5\n",
      "41173/41173 [==============================] - 217s 5ms/step - loss: 0.8579 - acc: 0.5899 - val_loss: 0.7702 - val_acc: 0.6549\n",
      "Epoch 2/5\n",
      "41173/41173 [==============================] - 208s 5ms/step - loss: 0.4813 - acc: 0.8031 - val_loss: 0.8800 - val_acc: 0.6186\n",
      "Epoch 3/5\n",
      "41173/41173 [==============================] - 208s 5ms/step - loss: 0.1940 - acc: 0.9271 - val_loss: 1.1439 - val_acc: 0.6162\n",
      "Epoch 4/5\n",
      "41173/41173 [==============================] - 208s 5ms/step - loss: 0.0810 - acc: 0.9713 - val_loss: 1.5023 - val_acc: 0.6098\n",
      "Epoch 5/5\n",
      "41173/41173 [==============================] - 208s 5ms/step - loss: 0.0398 - acc: 0.9861 - val_loss: 1.8916 - val_acc: 0.6026\n",
      "Train on 2548 samples, validate on 135 samples\n",
      "Epoch 1/10\n",
      "2548/2548 [==============================] - 26s 10ms/step - loss: 0.6718 - acc: 0.5918 - val_loss: 0.6559 - val_acc: 0.5778\n",
      "Epoch 2/10\n",
      "2548/2548 [==============================] - 13s 5ms/step - loss: 0.4895 - acc: 0.7645 - val_loss: 0.6903 - val_acc: 0.6000\n",
      "Epoch 3/10\n",
      "2548/2548 [==============================] - 13s 5ms/step - loss: 0.1480 - acc: 0.9509 - val_loss: 1.0539 - val_acc: 0.5481\n",
      "Epoch 4/10\n",
      "2548/2548 [==============================] - 13s 5ms/step - loss: 0.0312 - acc: 0.9929 - val_loss: 1.2644 - val_acc: 0.5778\n",
      "Epoch 5/10\n",
      "2548/2548 [==============================] - 13s 5ms/step - loss: 0.0075 - acc: 0.9984 - val_loss: 1.8061 - val_acc: 0.5259\n",
      "Epoch 6/10\n",
      "2548/2548 [==============================] - 13s 5ms/step - loss: 0.0064 - acc: 0.9988 - val_loss: 1.6764 - val_acc: 0.5481\n",
      "Epoch 7/10\n",
      "2548/2548 [==============================] - 13s 5ms/step - loss: 0.0013 - acc: 1.0000 - val_loss: 1.9066 - val_acc: 0.5704\n",
      "Epoch 8/10\n",
      "2548/2548 [==============================] - 13s 5ms/step - loss: 7.9768e-04 - acc: 1.0000 - val_loss: 2.1838 - val_acc: 0.5852\n",
      "Epoch 9/10\n",
      "2548/2548 [==============================] - 13s 5ms/step - loss: 3.5228e-04 - acc: 1.0000 - val_loss: 2.3315 - val_acc: 0.5704\n",
      "Epoch 10/10\n",
      "2548/2548 [==============================] - 13s 5ms/step - loss: 2.0333e-04 - acc: 1.0000 - val_loss: 2.4507 - val_acc: 0.5778\n",
      "1151/1151 [==============================] - 3s 3ms/step\n",
      "             precision    recall  f1-score   support\n",
      "\n",
      "          0       0.57      0.54      0.55       577\n",
      "          1       0.56      0.59      0.57       574\n",
      "\n",
      "avg / total       0.56      0.56      0.56      1151\n",
      "\n",
      "Macro f-score: 0.5738539898132429\n"
     ]
    }
   ],
   "source": [
    "scores=[]\n",
    "\n",
    "from sklearn.metrics import classification_report, f1_score\n",
    "import numpy as np\n",
    "\n",
    "for i,t in enumerate(tasks[:1]):\n",
    "    print(\"Evaluating task\",t)\n",
    "    model_pol, model_ir = build_model(t)\n",
    "    model_pol.summary()\n",
    "    model_ir.summary()\n",
    "    \n",
    "    model_pol.compile(loss='categorical_crossentropy', optimizer='adam', metrics=['accuracy'])\n",
    "    model_ir.compile(loss='binary_crossentropy', optimizer='adam', metrics=['accuracy'])\n",
    "    \n",
    "    X_polarity_train_=sequence.pad_sequences(X_polarity_train[i], maxlen=maxlen)\n",
    "    \n",
    "    model_pol.fit(X_polarity_train_,y_polarity_train[i],\n",
    "                  batch_size=batch_size,\n",
    "                  epochs=epochs_polarity,\n",
    "                  validation_split=0.1)\n",
    "    \n",
    "    X_train_=sequence.pad_sequences(X_train[i], maxlen=maxlen)\n",
    "    X_test_=sequence.pad_sequences(X_test[i], maxlen=maxlen)\n",
    "    \n",
    "    \n",
    "    model_ir.fit(X_train_,y_train[i],\n",
    "                  batch_size=batch_size,\n",
    "                  epochs=epochs_irony,\n",
    "                  validation_split=0.05)\n",
    "    \n",
    "    \n",
    "    #score, acc = model.evaluate(X_test_,y_test[i],batch_size=batch_size)\n",
    "    \n",
    "    y_test_ = model_ir.predict(X_test_, batch_size=batch_size, verbose=1)\n",
    "    y_test_ = np.round(y_test_)\n",
    "    \n",
    "    print(classification_report(y_test[i], y_test_))\n",
    "    print(\"Macro f-score:\", f1_score(y_test[i], y_test_))\n",
    "    \n",
    "   "
   ]
  },
  {
   "cell_type": "code",
   "execution_count": null,
   "metadata": {
    "collapsed": true
   },
   "outputs": [],
   "source": []
  },
  {
   "cell_type": "code",
   "execution_count": null,
   "metadata": {
    "collapsed": true
   },
   "outputs": [],
   "source": []
  }
 ],
 "metadata": {
  "kernelspec": {
   "display_name": "Python 3",
   "language": "python",
   "name": "python3"
  },
  "language_info": {
   "codemirror_mode": {
    "name": "ipython",
    "version": 3
   },
   "file_extension": ".py",
   "mimetype": "text/x-python",
   "name": "python",
   "nbconvert_exporter": "python",
   "pygments_lexer": "ipython3",
   "version": "3.5.2"
  }
 },
 "nbformat": 4,
 "nbformat_minor": 2
}
